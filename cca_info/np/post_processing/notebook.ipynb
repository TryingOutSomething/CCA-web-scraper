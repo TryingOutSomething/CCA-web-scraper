{
 "metadata": {
  "language_info": {
   "codemirror_mode": {
    "name": "ipython",
    "version": 3
   },
   "file_extension": ".py",
   "mimetype": "text/x-python",
   "name": "python",
   "nbconvert_exporter": "python",
   "pygments_lexer": "ipython3",
   "version": "3.7.7-final"
  },
  "orig_nbformat": 2,
  "kernelspec": {
   "name": "python3",
   "display_name": "Python 3"
  }
 },
 "nbformat": 4,
 "nbformat_minor": 2,
 "cells": [
  {
   "cell_type": "code",
   "execution_count": 1,
   "metadata": {},
   "outputs": [],
   "source": [
    "import pandas as pd\n",
    "from numpy import nan"
   ]
  },
  {
   "cell_type": "code",
   "execution_count": 9,
   "metadata": {},
   "outputs": [
    {
     "output_type": "execute_result",
     "data": {
      "text/plain": [
       "                  name         category  \\\n",
       "0    Arts Appreciation  Arts & Cultural   \n",
       "1               B-Boys  Arts & Cultural   \n",
       "2  Chinese Calligraphy  Arts & Cultural   \n",
       "3        Chinese Dance  Arts & Cultural   \n",
       "4        Chinese Drama  Arts & Cultural   \n",
       "\n",
       "                                                 bio  \\\n",
       "0  The club conducts regular activities to help m...   \n",
       "1  The B-Boy Dance Club performs under the alias ...   \n",
       "2  The Chinese Calligraphy Club aims to spread aw...   \n",
       "3  The Chinese Dance Club focuses on contemporary...   \n",
       "4  The Chinese Drama Club is also known as the St...   \n",
       "\n",
       "                               email  profileUrl  \\\n",
       "0        cca_aarts@connect.np.edu.sg         NaN   \n",
       "1        cca_bboys@connect.np.edu.sg         NaN   \n",
       "2  cca_calligraphy@connect.np.edu.sg         NaN   \n",
       "3       cca_cdance@connect.np.edu.sg         NaN   \n",
       "4       cca_cdrama@connect.np.edu.sg         NaN   \n",
       "\n",
       "                                            coverUrl  \n",
       "0                                               None  \n",
       "1  https://www.np.edu.sg/studentlife/PublishingIm...  \n",
       "2  https://www.np.edu.sg/studentlife/PublishingIm...  \n",
       "3  https://www.np.edu.sg/studentlife/PublishingIm...  \n",
       "4  https://www.np.edu.sg/studentlife/PublishingIm...  "
      ],
      "text/html": "<div>\n<style scoped>\n    .dataframe tbody tr th:only-of-type {\n        vertical-align: middle;\n    }\n\n    .dataframe tbody tr th {\n        vertical-align: top;\n    }\n\n    .dataframe thead th {\n        text-align: right;\n    }\n</style>\n<table border=\"1\" class=\"dataframe\">\n  <thead>\n    <tr style=\"text-align: right;\">\n      <th></th>\n      <th>name</th>\n      <th>category</th>\n      <th>bio</th>\n      <th>email</th>\n      <th>profileUrl</th>\n      <th>coverUrl</th>\n    </tr>\n  </thead>\n  <tbody>\n    <tr>\n      <th>0</th>\n      <td>Arts Appreciation</td>\n      <td>Arts &amp; Cultural</td>\n      <td>The club conducts regular activities to help m...</td>\n      <td>cca_aarts@connect.np.edu.sg</td>\n      <td>NaN</td>\n      <td>None</td>\n    </tr>\n    <tr>\n      <th>1</th>\n      <td>B-Boys</td>\n      <td>Arts &amp; Cultural</td>\n      <td>The B-Boy Dance Club performs under the alias ...</td>\n      <td>cca_bboys@connect.np.edu.sg</td>\n      <td>NaN</td>\n      <td>https://www.np.edu.sg/studentlife/PublishingIm...</td>\n    </tr>\n    <tr>\n      <th>2</th>\n      <td>Chinese Calligraphy</td>\n      <td>Arts &amp; Cultural</td>\n      <td>The Chinese Calligraphy Club aims to spread aw...</td>\n      <td>cca_calligraphy@connect.np.edu.sg</td>\n      <td>NaN</td>\n      <td>https://www.np.edu.sg/studentlife/PublishingIm...</td>\n    </tr>\n    <tr>\n      <th>3</th>\n      <td>Chinese Dance</td>\n      <td>Arts &amp; Cultural</td>\n      <td>The Chinese Dance Club focuses on contemporary...</td>\n      <td>cca_cdance@connect.np.edu.sg</td>\n      <td>NaN</td>\n      <td>https://www.np.edu.sg/studentlife/PublishingIm...</td>\n    </tr>\n    <tr>\n      <th>4</th>\n      <td>Chinese Drama</td>\n      <td>Arts &amp; Cultural</td>\n      <td>The Chinese Drama Club is also known as the St...</td>\n      <td>cca_cdrama@connect.np.edu.sg</td>\n      <td>NaN</td>\n      <td>https://www.np.edu.sg/studentlife/PublishingIm...</td>\n    </tr>\n  </tbody>\n</table>\n</div>"
     },
     "metadata": {},
     "execution_count": 9
    }
   ],
   "source": [
    "cca_info_df = pd.read_json('../cca_list.json')\n",
    "cca_info_df.head()"
   ]
  },
  {
   "cell_type": "code",
   "execution_count": null,
   "metadata": {},
   "outputs": [],
   "source": []
  },
  {
   "source": [
    "## Remove duplicate cca"
   ],
   "cell_type": "markdown",
   "metadata": {}
  },
  {
   "cell_type": "code",
   "execution_count": 16,
   "metadata": {},
   "outputs": [
    {
     "output_type": "execute_result",
     "data": {
      "text/plain": [
       "                      name category  \\\n",
       "63                Aerobics   Sports   \n",
       "65                 Archery   Sports   \n",
       "66               Badminton   Sports   \n",
       "67              Basketball   Sports   \n",
       "68                 Bowling   Sports   \n",
       "69                           Sports   \n",
       "70           Climbing Club   Sports   \n",
       "71             Dragon Boat   Sports   \n",
       "72                 Fencing   Sports   \n",
       "73              Floorball​   Sports   \n",
       "74                Football   Sports   \n",
       "75                  Futsal   Sports   \n",
       "76                Handball   Sports   \n",
       "77                  Hockey   Sports   \n",
       "78          Inline Skating   Sports   \n",
       "79              Lifesaving   Sports   \n",
       "80                 Netball   Sports   \n",
       "81  Outdoor Adventure Club   Sports   \n",
       "82                   Rugby   Sports   \n",
       "83                 Sailing   Sports   \n",
       "84                Softball   Sports   \n",
       "85                  Squash   Sports   \n",
       "86                Swimming   Sports   \n",
       "87            Table Tennis   Sports   \n",
       "88              Tchoukball   Sports   \n",
       "89                  Tennis   Sports   \n",
       "90             Touch Rugby   Sports   \n",
       "91         Track and Field   Sports   \n",
       "92        Ultimate Frisbee   Sports   \n",
       "93              Volleyball   Sports   \n",
       "94              Water Polo   Sports   \n",
       "95                    Yoga   Sports   \n",
       "\n",
       "                                                  bio  \\\n",
       "63  The NP Aerobics Club caters to individuals of ...   \n",
       "65  Since its inception in 1998, the Archery Club ...   \n",
       "66  The badminton club provides a great environmen...   \n",
       "67  The Ngee Ann Basketball Club is one of the ran...   \n",
       "68  The Bowling Club aims to develop and train mem...   \n",
       "69  The Canoeing Club trains intensely in two main...   \n",
       "70  The Climbing Club specialises in adventure rac...   \n",
       "71  The Dragon Boat Club (NPDB) carries an illustr...   \n",
       "72  The Fencing Club exercises both the mind and t...   \n",
       "73  Floorball may be one of Singapore's youngest s...   \n",
       "74  NP’s Football club gives students the opportun...   \n",
       "75  The sport emphasises more technical footwork a...   \n",
       "76  Handball is a fast-paced and dynamic contact s...   \n",
       "77  The Hockey Club strives to do well in the POL-...   \n",
       "78  The Inline Skating Club is home to a sport of ...   \n",
       "79  The main aim of the NP Lifesaving corps is to ...   \n",
       "80  As the only all-female sports club in NP, the ...   \n",
       "81  The Outdoor Adventure Club (ODAC) aims to make...   \n",
       "82  The Rugby Club aims to promote rugby as a gent...   \n",
       "83  Through training methods that emphasise team d...   \n",
       "84  With a strong emphasis on extensive teamwork, ...   \n",
       "85  The squash club gives players both physical an...   \n",
       "86  With over 10 years of history, the Ngee Ann Sw...   \n",
       "87  The Table Tennis club aims to help members dis...   \n",
       "88  Tchoukball is a fast-paced invasion sport and ...   \n",
       "89  The Tennis Club consistently serves up the ace...   \n",
       "90  Touch Rugby training is designed to make one c...   \n",
       "91  NP Track and Field trains for a multitude of d...   \n",
       "92  From hand-eye coordination found in basketball...   \n",
       "93  The volleyball club holds training camps at th...   \n",
       "94  Water Polo is a fast-paced sport where tactics...   \n",
       "95  Yoga is a sport that unites and balances your ...   \n",
       "\n",
       "                                email  profileUrl  \\\n",
       "63     cca_aerobics@connect.np.edu.sg         NaN   \n",
       "65      cca_archery@connect.np.edu.sg         NaN   \n",
       "66    cca_badminton@connect.np.edu.sg         NaN   \n",
       "67   cca_basketball@connect.np.edu.sg         NaN   \n",
       "68      cca_bowling@connect.np.edu.sg         NaN   \n",
       "69     cca_canoeing@connect.np.edu.sg         NaN   \n",
       "70     cca_climbing@connect.np.edu.sg         NaN   \n",
       "71   cca_dragonboat@connect.np.edu.sg         NaN   \n",
       "72    cca_fencing@connect.np.edu.sg​​         NaN   \n",
       "73   cca_floorball@connect.np.edu.sg​         NaN   \n",
       "74    cca_football@connect.np.edu.sg​         NaN   \n",
       "75       cca_futsal@connect.np.edu.sg         NaN   \n",
       "76   cca_handball@connect.np.edu.sg​​         NaN   \n",
       "77       cca_hockey@connect.np.edu.sg         NaN   \n",
       "78      cca_inline@connect.np.edu.sg​         NaN   \n",
       "79  cca_lifeguard@connect.np.edu.sg​​         NaN   \n",
       "80   cca_netball@connect.np.edu.sg​​​         NaN   \n",
       "81         cca_odac@connect.np.edu.sg         NaN   \n",
       "82        cca_rugby@connect.np.edu.sg         NaN   \n",
       "83      cca_sailing@connect.np.edu.sg         NaN   \n",
       "84    cca_softball@connect.np.edu.sg​         NaN   \n",
       "85       cca_squash@connect.np.edu.sg         NaN   \n",
       "86    cca_swimming@connect.np.edu.sg​         NaN   \n",
       "87  cca_tabletennis@connect.np.edu.sg         NaN   \n",
       "88       cca_tchouk@connect.np.edu.sg         NaN   \n",
       "89       cca_tennis@connect.np.edu.sg         NaN   \n",
       "90  cca_touchrugby@connect.np.edu.sg​         NaN   \n",
       "91        cca_track@connect.np.edu.sg         NaN   \n",
       "92      cca_frisbee@connect.np.edu.sg         NaN   \n",
       "93  cca_volleyball@connect.np.edu.sg​         NaN   \n",
       "94    cca_waterpolo@connect.np.edu.sg         NaN   \n",
       "95        cca_yoga@connect.np.edu.sg​         NaN   \n",
       "\n",
       "                                             coverUrl  \n",
       "63  https://www.np.edu.sg/studentlife/PublishingIm...  \n",
       "65  https://www.np.edu.sg/studentlife/PublishingIm...  \n",
       "66  https://www.np.edu.sg/studentlife/PublishingIm...  \n",
       "67  https://www.np.edu.sg/studentlife/PublishingIm...  \n",
       "68  https://www.np.edu.sg/studentlife/PublishingIm...  \n",
       "69  https://www.np.edu.sg/studentlife/PublishingIm...  \n",
       "70                                               None  \n",
       "71                                               None  \n",
       "72  https://www.np.edu.sg/studentlife/PublishingIm...  \n",
       "73  https://www.np.edu.sg/studentlife/PublishingIm...  \n",
       "74  https://www.np.edu.sg/studentlife/PublishingIm...  \n",
       "75                                               None  \n",
       "76  https://www.np.edu.sg/studentlife/PublishingIm...  \n",
       "77                                               None  \n",
       "78  https://www.np.edu.sg/studentlife/PublishingIm...  \n",
       "79                                               None  \n",
       "80                                               None  \n",
       "81                                               None  \n",
       "82                                               None  \n",
       "83                                               None  \n",
       "84  https://www.np.edu.sg/studentlife/PublishingIm...  \n",
       "85                                               None  \n",
       "86  https://www.np.edu.sg/studentlife/PublishingIm...  \n",
       "87                                               None  \n",
       "88                                               None  \n",
       "89                                               None  \n",
       "90  https://www.np.edu.sg/studentlife/PublishingIm...  \n",
       "91                                               None  \n",
       "92                                               None  \n",
       "93  https://www.np.edu.sg/studentlife/PublishingIm...  \n",
       "94                                               None  \n",
       "95  https://www.np.edu.sg/studentlife/PublishingIm...  "
      ],
      "text/html": "<div>\n<style scoped>\n    .dataframe tbody tr th:only-of-type {\n        vertical-align: middle;\n    }\n\n    .dataframe tbody tr th {\n        vertical-align: top;\n    }\n\n    .dataframe thead th {\n        text-align: right;\n    }\n</style>\n<table border=\"1\" class=\"dataframe\">\n  <thead>\n    <tr style=\"text-align: right;\">\n      <th></th>\n      <th>name</th>\n      <th>category</th>\n      <th>bio</th>\n      <th>email</th>\n      <th>profileUrl</th>\n      <th>coverUrl</th>\n    </tr>\n  </thead>\n  <tbody>\n    <tr>\n      <th>63</th>\n      <td>Aerobics</td>\n      <td>Sports</td>\n      <td>The NP Aerobics Club caters to individuals of ...</td>\n      <td>cca_aerobics@connect.np.edu.sg</td>\n      <td>NaN</td>\n      <td>https://www.np.edu.sg/studentlife/PublishingIm...</td>\n    </tr>\n    <tr>\n      <th>65</th>\n      <td>Archery</td>\n      <td>Sports</td>\n      <td>Since its inception in 1998, the Archery Club ...</td>\n      <td>cca_archery@connect.np.edu.sg</td>\n      <td>NaN</td>\n      <td>https://www.np.edu.sg/studentlife/PublishingIm...</td>\n    </tr>\n    <tr>\n      <th>66</th>\n      <td>Badminton</td>\n      <td>Sports</td>\n      <td>The badminton club provides a great environmen...</td>\n      <td>cca_badminton@connect.np.edu.sg</td>\n      <td>NaN</td>\n      <td>https://www.np.edu.sg/studentlife/PublishingIm...</td>\n    </tr>\n    <tr>\n      <th>67</th>\n      <td>Basketball</td>\n      <td>Sports</td>\n      <td>The Ngee Ann Basketball Club is one of the ran...</td>\n      <td>cca_basketball@connect.np.edu.sg</td>\n      <td>NaN</td>\n      <td>https://www.np.edu.sg/studentlife/PublishingIm...</td>\n    </tr>\n    <tr>\n      <th>68</th>\n      <td>Bowling</td>\n      <td>Sports</td>\n      <td>The Bowling Club aims to develop and train mem...</td>\n      <td>cca_bowling@connect.np.edu.sg</td>\n      <td>NaN</td>\n      <td>https://www.np.edu.sg/studentlife/PublishingIm...</td>\n    </tr>\n    <tr>\n      <th>69</th>\n      <td></td>\n      <td>Sports</td>\n      <td>The Canoeing Club trains intensely in two main...</td>\n      <td>cca_canoeing@connect.np.edu.sg</td>\n      <td>NaN</td>\n      <td>https://www.np.edu.sg/studentlife/PublishingIm...</td>\n    </tr>\n    <tr>\n      <th>70</th>\n      <td>Climbing Club</td>\n      <td>Sports</td>\n      <td>The Climbing Club specialises in adventure rac...</td>\n      <td>cca_climbing@connect.np.edu.sg</td>\n      <td>NaN</td>\n      <td>None</td>\n    </tr>\n    <tr>\n      <th>71</th>\n      <td>Dragon Boat</td>\n      <td>Sports</td>\n      <td>The Dragon Boat Club (NPDB) carries an illustr...</td>\n      <td>cca_dragonboat@connect.np.edu.sg</td>\n      <td>NaN</td>\n      <td>None</td>\n    </tr>\n    <tr>\n      <th>72</th>\n      <td>Fencing</td>\n      <td>Sports</td>\n      <td>The Fencing Club exercises both the mind and t...</td>\n      <td>cca_fencing@connect.np.edu.sg​​</td>\n      <td>NaN</td>\n      <td>https://www.np.edu.sg/studentlife/PublishingIm...</td>\n    </tr>\n    <tr>\n      <th>73</th>\n      <td>Floorball​</td>\n      <td>Sports</td>\n      <td>Floorball may be one of Singapore's youngest s...</td>\n      <td>cca_floorball@connect.np.edu.sg​</td>\n      <td>NaN</td>\n      <td>https://www.np.edu.sg/studentlife/PublishingIm...</td>\n    </tr>\n    <tr>\n      <th>74</th>\n      <td>Football</td>\n      <td>Sports</td>\n      <td>NP’s Football club gives students the opportun...</td>\n      <td>cca_football@connect.np.edu.sg​</td>\n      <td>NaN</td>\n      <td>https://www.np.edu.sg/studentlife/PublishingIm...</td>\n    </tr>\n    <tr>\n      <th>75</th>\n      <td>Futsal</td>\n      <td>Sports</td>\n      <td>The sport emphasises more technical footwork a...</td>\n      <td>cca_futsal@connect.np.edu.sg</td>\n      <td>NaN</td>\n      <td>None</td>\n    </tr>\n    <tr>\n      <th>76</th>\n      <td>Handball</td>\n      <td>Sports</td>\n      <td>Handball is a fast-paced and dynamic contact s...</td>\n      <td>cca_handball@connect.np.edu.sg​​</td>\n      <td>NaN</td>\n      <td>https://www.np.edu.sg/studentlife/PublishingIm...</td>\n    </tr>\n    <tr>\n      <th>77</th>\n      <td>Hockey</td>\n      <td>Sports</td>\n      <td>The Hockey Club strives to do well in the POL-...</td>\n      <td>cca_hockey@connect.np.edu.sg</td>\n      <td>NaN</td>\n      <td>None</td>\n    </tr>\n    <tr>\n      <th>78</th>\n      <td>Inline Skating</td>\n      <td>Sports</td>\n      <td>The Inline Skating Club is home to a sport of ...</td>\n      <td>cca_inline@connect.np.edu.sg​</td>\n      <td>NaN</td>\n      <td>https://www.np.edu.sg/studentlife/PublishingIm...</td>\n    </tr>\n    <tr>\n      <th>79</th>\n      <td>Lifesaving</td>\n      <td>Sports</td>\n      <td>The main aim of the NP Lifesaving corps is to ...</td>\n      <td>cca_lifeguard@connect.np.edu.sg​​</td>\n      <td>NaN</td>\n      <td>None</td>\n    </tr>\n    <tr>\n      <th>80</th>\n      <td>Netball</td>\n      <td>Sports</td>\n      <td>As the only all-female sports club in NP, the ...</td>\n      <td>cca_netball@connect.np.edu.sg​​​</td>\n      <td>NaN</td>\n      <td>None</td>\n    </tr>\n    <tr>\n      <th>81</th>\n      <td>Outdoor Adventure Club</td>\n      <td>Sports</td>\n      <td>The Outdoor Adventure Club (ODAC) aims to make...</td>\n      <td>cca_odac@connect.np.edu.sg</td>\n      <td>NaN</td>\n      <td>None</td>\n    </tr>\n    <tr>\n      <th>82</th>\n      <td>Rugby</td>\n      <td>Sports</td>\n      <td>The Rugby Club aims to promote rugby as a gent...</td>\n      <td>cca_rugby@connect.np.edu.sg</td>\n      <td>NaN</td>\n      <td>None</td>\n    </tr>\n    <tr>\n      <th>83</th>\n      <td>Sailing</td>\n      <td>Sports</td>\n      <td>Through training methods that emphasise team d...</td>\n      <td>cca_sailing@connect.np.edu.sg</td>\n      <td>NaN</td>\n      <td>None</td>\n    </tr>\n    <tr>\n      <th>84</th>\n      <td>Softball</td>\n      <td>Sports</td>\n      <td>With a strong emphasis on extensive teamwork, ...</td>\n      <td>cca_softball@connect.np.edu.sg​</td>\n      <td>NaN</td>\n      <td>https://www.np.edu.sg/studentlife/PublishingIm...</td>\n    </tr>\n    <tr>\n      <th>85</th>\n      <td>Squash</td>\n      <td>Sports</td>\n      <td>The squash club gives players both physical an...</td>\n      <td>cca_squash@connect.np.edu.sg</td>\n      <td>NaN</td>\n      <td>None</td>\n    </tr>\n    <tr>\n      <th>86</th>\n      <td>Swimming</td>\n      <td>Sports</td>\n      <td>With over 10 years of history, the Ngee Ann Sw...</td>\n      <td>cca_swimming@connect.np.edu.sg​</td>\n      <td>NaN</td>\n      <td>https://www.np.edu.sg/studentlife/PublishingIm...</td>\n    </tr>\n    <tr>\n      <th>87</th>\n      <td>Table Tennis</td>\n      <td>Sports</td>\n      <td>The Table Tennis club aims to help members dis...</td>\n      <td>cca_tabletennis@connect.np.edu.sg</td>\n      <td>NaN</td>\n      <td>None</td>\n    </tr>\n    <tr>\n      <th>88</th>\n      <td>Tchoukball</td>\n      <td>Sports</td>\n      <td>Tchoukball is a fast-paced invasion sport and ...</td>\n      <td>cca_tchouk@connect.np.edu.sg</td>\n      <td>NaN</td>\n      <td>None</td>\n    </tr>\n    <tr>\n      <th>89</th>\n      <td>Tennis</td>\n      <td>Sports</td>\n      <td>The Tennis Club consistently serves up the ace...</td>\n      <td>cca_tennis@connect.np.edu.sg</td>\n      <td>NaN</td>\n      <td>None</td>\n    </tr>\n    <tr>\n      <th>90</th>\n      <td>Touch Rugby</td>\n      <td>Sports</td>\n      <td>Touch Rugby training is designed to make one c...</td>\n      <td>cca_touchrugby@connect.np.edu.sg​</td>\n      <td>NaN</td>\n      <td>https://www.np.edu.sg/studentlife/PublishingIm...</td>\n    </tr>\n    <tr>\n      <th>91</th>\n      <td>Track and Field</td>\n      <td>Sports</td>\n      <td>NP Track and Field trains for a multitude of d...</td>\n      <td>cca_track@connect.np.edu.sg</td>\n      <td>NaN</td>\n      <td>None</td>\n    </tr>\n    <tr>\n      <th>92</th>\n      <td>Ultimate Frisbee</td>\n      <td>Sports</td>\n      <td>From hand-eye coordination found in basketball...</td>\n      <td>cca_frisbee@connect.np.edu.sg</td>\n      <td>NaN</td>\n      <td>None</td>\n    </tr>\n    <tr>\n      <th>93</th>\n      <td>Volleyball</td>\n      <td>Sports</td>\n      <td>The volleyball club holds training camps at th...</td>\n      <td>cca_volleyball@connect.np.edu.sg​</td>\n      <td>NaN</td>\n      <td>https://www.np.edu.sg/studentlife/PublishingIm...</td>\n    </tr>\n    <tr>\n      <th>94</th>\n      <td>Water Polo</td>\n      <td>Sports</td>\n      <td>Water Polo is a fast-paced sport where tactics...</td>\n      <td>cca_waterpolo@connect.np.edu.sg</td>\n      <td>NaN</td>\n      <td>None</td>\n    </tr>\n    <tr>\n      <th>95</th>\n      <td>Yoga</td>\n      <td>Sports</td>\n      <td>Yoga is a sport that unites and balances your ...</td>\n      <td>cca_yoga@connect.np.edu.sg​</td>\n      <td>NaN</td>\n      <td>https://www.np.edu.sg/studentlife/PublishingIm...</td>\n    </tr>\n  </tbody>\n</table>\n</div>"
     },
     "metadata": {},
     "execution_count": 16
    }
   ],
   "source": [
    "cca_info_df[cca_info_df.duplicated('name')]"
   ]
  },
  {
   "cell_type": "code",
   "execution_count": 32,
   "metadata": {},
   "outputs": [
    {
     "output_type": "execute_result",
     "data": {
      "text/plain": [
       "                  name         category  \\\n",
       "0    Arts Appreciation  Arts & Cultural   \n",
       "1               B-Boys  Arts & Cultural   \n",
       "2  Chinese Calligraphy  Arts & Cultural   \n",
       "3        Chinese Dance  Arts & Cultural   \n",
       "4        Chinese Drama  Arts & Cultural   \n",
       "\n",
       "                                                 bio  \\\n",
       "0  The club conducts regular activities to help m...   \n",
       "1  The B-Boy Dance Club performs under the alias ...   \n",
       "2  The Chinese Calligraphy Club aims to spread aw...   \n",
       "3  The Chinese Dance Club focuses on contemporary...   \n",
       "4  The Chinese Drama Club is also known as the St...   \n",
       "\n",
       "                               email  profileUrl  \\\n",
       "0        cca_aarts@connect.np.edu.sg         NaN   \n",
       "1        cca_bboys@connect.np.edu.sg         NaN   \n",
       "2  cca_calligraphy@connect.np.edu.sg         NaN   \n",
       "3       cca_cdance@connect.np.edu.sg         NaN   \n",
       "4       cca_cdrama@connect.np.edu.sg         NaN   \n",
       "\n",
       "                                            coverUrl  \n",
       "0                                               None  \n",
       "1  https://www.np.edu.sg/studentlife/PublishingIm...  \n",
       "2  https://www.np.edu.sg/studentlife/PublishingIm...  \n",
       "3  https://www.np.edu.sg/studentlife/PublishingIm...  \n",
       "4  https://www.np.edu.sg/studentlife/PublishingIm...  "
      ],
      "text/html": "<div>\n<style scoped>\n    .dataframe tbody tr th:only-of-type {\n        vertical-align: middle;\n    }\n\n    .dataframe tbody tr th {\n        vertical-align: top;\n    }\n\n    .dataframe thead th {\n        text-align: right;\n    }\n</style>\n<table border=\"1\" class=\"dataframe\">\n  <thead>\n    <tr style=\"text-align: right;\">\n      <th></th>\n      <th>name</th>\n      <th>category</th>\n      <th>bio</th>\n      <th>email</th>\n      <th>profileUrl</th>\n      <th>coverUrl</th>\n    </tr>\n  </thead>\n  <tbody>\n    <tr>\n      <th>0</th>\n      <td>Arts Appreciation</td>\n      <td>Arts &amp; Cultural</td>\n      <td>The club conducts regular activities to help m...</td>\n      <td>cca_aarts@connect.np.edu.sg</td>\n      <td>NaN</td>\n      <td>None</td>\n    </tr>\n    <tr>\n      <th>1</th>\n      <td>B-Boys</td>\n      <td>Arts &amp; Cultural</td>\n      <td>The B-Boy Dance Club performs under the alias ...</td>\n      <td>cca_bboys@connect.np.edu.sg</td>\n      <td>NaN</td>\n      <td>https://www.np.edu.sg/studentlife/PublishingIm...</td>\n    </tr>\n    <tr>\n      <th>2</th>\n      <td>Chinese Calligraphy</td>\n      <td>Arts &amp; Cultural</td>\n      <td>The Chinese Calligraphy Club aims to spread aw...</td>\n      <td>cca_calligraphy@connect.np.edu.sg</td>\n      <td>NaN</td>\n      <td>https://www.np.edu.sg/studentlife/PublishingIm...</td>\n    </tr>\n    <tr>\n      <th>3</th>\n      <td>Chinese Dance</td>\n      <td>Arts &amp; Cultural</td>\n      <td>The Chinese Dance Club focuses on contemporary...</td>\n      <td>cca_cdance@connect.np.edu.sg</td>\n      <td>NaN</td>\n      <td>https://www.np.edu.sg/studentlife/PublishingIm...</td>\n    </tr>\n    <tr>\n      <th>4</th>\n      <td>Chinese Drama</td>\n      <td>Arts &amp; Cultural</td>\n      <td>The Chinese Drama Club is also known as the St...</td>\n      <td>cca_cdrama@connect.np.edu.sg</td>\n      <td>NaN</td>\n      <td>https://www.np.edu.sg/studentlife/PublishingIm...</td>\n    </tr>\n  </tbody>\n</table>\n</div>"
     },
     "metadata": {},
     "execution_count": 32
    }
   ],
   "source": [
    "unique_cca_info_df = cca_info_df.copy(deep=True).drop_duplicates()\n",
    "unique_cca_info_df.head()"
   ]
  },
  {
   "cell_type": "code",
   "execution_count": 33,
   "metadata": {},
   "outputs": [
    {
     "output_type": "execute_result",
     "data": {
      "text/plain": [
       "Empty DataFrame\n",
       "Columns: [name, category, bio, email, profileUrl, coverUrl]\n",
       "Index: []"
      ],
      "text/html": "<div>\n<style scoped>\n    .dataframe tbody tr th:only-of-type {\n        vertical-align: middle;\n    }\n\n    .dataframe tbody tr th {\n        vertical-align: top;\n    }\n\n    .dataframe thead th {\n        text-align: right;\n    }\n</style>\n<table border=\"1\" class=\"dataframe\">\n  <thead>\n    <tr style=\"text-align: right;\">\n      <th></th>\n      <th>name</th>\n      <th>category</th>\n      <th>bio</th>\n      <th>email</th>\n      <th>profileUrl</th>\n      <th>coverUrl</th>\n    </tr>\n  </thead>\n  <tbody>\n  </tbody>\n</table>\n</div>"
     },
     "metadata": {},
     "execution_count": 33
    }
   ],
   "source": [
    "unique_cca_info_df[unique_cca_info_df.duplicated('name')]"
   ]
  },
  {
   "cell_type": "code",
   "execution_count": 21,
   "metadata": {},
   "outputs": [
    {
     "output_type": "stream",
     "name": "stdout",
     "text": [
      "<class 'pandas.core.frame.DataFrame'>\nInt64Index: 88 entries, 0 to 119\nData columns (total 6 columns):\n #   Column      Non-Null Count  Dtype  \n---  ------      --------------  -----  \n 0   name        88 non-null     object \n 1   category    88 non-null     object \n 2   bio         88 non-null     object \n 3   email       88 non-null     object \n 4   profileUrl  0 non-null      float64\n 5   coverUrl    53 non-null     object \ndtypes: float64(1), object(5)\nmemory usage: 4.8+ KB\n"
     ]
    }
   ],
   "source": [
    "unique_cca_info_df.info()"
   ]
  },
  {
   "cell_type": "code",
   "execution_count": 14,
   "metadata": {},
   "outputs": [
    {
     "output_type": "stream",
     "name": "stdout",
     "text": [
      "<class 'pandas.core.frame.DataFrame'>\nRangeIndex: 120 entries, 0 to 119\nData columns (total 6 columns):\n #   Column      Non-Null Count  Dtype  \n---  ------      --------------  -----  \n 0   name        120 non-null    object \n 1   category    120 non-null    object \n 2   bio         120 non-null    object \n 3   email       120 non-null    object \n 4   profileUrl  0 non-null      float64\n 5   coverUrl    69 non-null     object \ndtypes: float64(1), object(5)\nmemory usage: 5.8+ KB\n"
     ]
    }
   ],
   "source": [
    "cca_info_df.info()"
   ]
  },
  {
   "cell_type": "code",
   "execution_count": null,
   "metadata": {},
   "outputs": [],
   "source": []
  },
  {
   "source": [
    "## Fill empty cca name (There exists one without name)"
   ],
   "cell_type": "markdown",
   "metadata": {}
  },
  {
   "cell_type": "code",
   "execution_count": 37,
   "metadata": {},
   "outputs": [
    {
     "output_type": "execute_result",
     "data": {
      "text/plain": [
       "        name category                                                bio  \\\n",
       "29  Canoeing   Sports  The Canoeing Club trains intensely in two main...   \n",
       "\n",
       "                             email  profileUrl  \\\n",
       "29  cca_canoeing@connect.np.edu.sg         NaN   \n",
       "\n",
       "                                             coverUrl  \n",
       "29  https://www.np.edu.sg/studentlife/PublishingIm...  "
      ],
      "text/html": "<div>\n<style scoped>\n    .dataframe tbody tr th:only-of-type {\n        vertical-align: middle;\n    }\n\n    .dataframe tbody tr th {\n        vertical-align: top;\n    }\n\n    .dataframe thead th {\n        text-align: right;\n    }\n</style>\n<table border=\"1\" class=\"dataframe\">\n  <thead>\n    <tr style=\"text-align: right;\">\n      <th></th>\n      <th>name</th>\n      <th>category</th>\n      <th>bio</th>\n      <th>email</th>\n      <th>profileUrl</th>\n      <th>coverUrl</th>\n    </tr>\n  </thead>\n  <tbody>\n    <tr>\n      <th>29</th>\n      <td>Canoeing</td>\n      <td>Sports</td>\n      <td>The Canoeing Club trains intensely in two main...</td>\n      <td>cca_canoeing@connect.np.edu.sg</td>\n      <td>NaN</td>\n      <td>https://www.np.edu.sg/studentlife/PublishingIm...</td>\n    </tr>\n  </tbody>\n</table>\n</div>"
     },
     "metadata": {},
     "execution_count": 37
    }
   ],
   "source": [
    "unique_cca_info_df[unique_cca_info_df['name'] == '']"
   ]
  },
  {
   "cell_type": "code",
   "execution_count": 35,
   "metadata": {},
   "outputs": [],
   "source": [
    "unique_cca_info_df['name'].mask(unique_cca_info_df['name'] == '', 'Canoeing', inplace=True)"
   ]
  },
  {
   "cell_type": "code",
   "execution_count": 38,
   "metadata": {},
   "outputs": [
    {
     "output_type": "execute_result",
     "data": {
      "text/plain": [
       "'Canoeing'"
      ]
     },
     "metadata": {},
     "execution_count": 38
    }
   ],
   "source": [
    "unique_cca_info_df['name'][29]"
   ]
  },
  {
   "cell_type": "code",
   "execution_count": null,
   "metadata": {},
   "outputs": [],
   "source": []
  },
  {
   "source": [
    "## Replace NaN with None"
   ],
   "cell_type": "markdown",
   "metadata": {}
  },
  {
   "cell_type": "code",
   "execution_count": 53,
   "metadata": {},
   "outputs": [
    {
     "output_type": "execute_result",
     "data": {
      "text/plain": [
       "                    name           category  \\\n",
       "0      Arts Appreciation    Arts & Cultural   \n",
       "1                 B-Boys    Arts & Cultural   \n",
       "2    Chinese Calligraphy    Arts & Cultural   \n",
       "3          Chinese Dance    Arts & Cultural   \n",
       "4          Chinese Drama    Arts & Cultural   \n",
       "..                   ...                ...   \n",
       "115           Navigators  Special Interests   \n",
       "116   Ninja-Do Kitagaryu  Special Interests   \n",
       "117        Radio Control  Special Interests   \n",
       "118      Shitoryu Karate  Special Interests   \n",
       "119         Toastmasters  Special Interests   \n",
       "\n",
       "                                                   bio  \\\n",
       "0    The club conducts regular activities to help m...   \n",
       "1    The B-Boy Dance Club performs under the alias ...   \n",
       "2    The Chinese Calligraphy Club aims to spread aw...   \n",
       "3    The Chinese Dance Club focuses on contemporary...   \n",
       "4    The Chinese Drama Club is also known as the St...   \n",
       "..                                                 ...   \n",
       "115  The club aims to guide members in their journe...   \n",
       "116  A unique form of martial arts that focuses on ...   \n",
       "117  The Radio Control Club is an avid group of rem...   \n",
       "118  Karate trains the Mind, the Body and the Spiri...   \n",
       "119  The NP Student Toastmasters Club will help you...   \n",
       "\n",
       "                                   email profileUrl  \\\n",
       "0            cca_aarts@connect.np.edu.sg       None   \n",
       "1            cca_bboys@connect.np.edu.sg       None   \n",
       "2      cca_calligraphy@connect.np.edu.sg       None   \n",
       "3           cca_cdance@connect.np.edu.sg       None   \n",
       "4           cca_cdrama@connect.np.edu.sg       None   \n",
       "..                                   ...        ...   \n",
       "115     cca_navigators@connect.np.edu.sg       None   \n",
       "116       cca_ninjado@connect.np.edu.sg​       None   \n",
       "117                                            None   \n",
       "118         cca_karate@connect.np.edu.sg       None   \n",
       "119  cca_toastmasters@connect.np.edu.sg​       None   \n",
       "\n",
       "                                              coverUrl  \n",
       "0                                                 None  \n",
       "1    https://www.np.edu.sg/studentlife/PublishingIm...  \n",
       "2    https://www.np.edu.sg/studentlife/PublishingIm...  \n",
       "3    https://www.np.edu.sg/studentlife/PublishingIm...  \n",
       "4    https://www.np.edu.sg/studentlife/PublishingIm...  \n",
       "..                                                 ...  \n",
       "115                                               None  \n",
       "116                                               None  \n",
       "117  https://www.np.edu.sg/studentlife/PublishingIm...  \n",
       "118                                               None  \n",
       "119  https://www.np.edu.sg/studentlife/PublishingIm...  \n",
       "\n",
       "[88 rows x 6 columns]"
      ],
      "text/html": "<div>\n<style scoped>\n    .dataframe tbody tr th:only-of-type {\n        vertical-align: middle;\n    }\n\n    .dataframe tbody tr th {\n        vertical-align: top;\n    }\n\n    .dataframe thead th {\n        text-align: right;\n    }\n</style>\n<table border=\"1\" class=\"dataframe\">\n  <thead>\n    <tr style=\"text-align: right;\">\n      <th></th>\n      <th>name</th>\n      <th>category</th>\n      <th>bio</th>\n      <th>email</th>\n      <th>profileUrl</th>\n      <th>coverUrl</th>\n    </tr>\n  </thead>\n  <tbody>\n    <tr>\n      <th>0</th>\n      <td>Arts Appreciation</td>\n      <td>Arts &amp; Cultural</td>\n      <td>The club conducts regular activities to help m...</td>\n      <td>cca_aarts@connect.np.edu.sg</td>\n      <td>None</td>\n      <td>None</td>\n    </tr>\n    <tr>\n      <th>1</th>\n      <td>B-Boys</td>\n      <td>Arts &amp; Cultural</td>\n      <td>The B-Boy Dance Club performs under the alias ...</td>\n      <td>cca_bboys@connect.np.edu.sg</td>\n      <td>None</td>\n      <td>https://www.np.edu.sg/studentlife/PublishingIm...</td>\n    </tr>\n    <tr>\n      <th>2</th>\n      <td>Chinese Calligraphy</td>\n      <td>Arts &amp; Cultural</td>\n      <td>The Chinese Calligraphy Club aims to spread aw...</td>\n      <td>cca_calligraphy@connect.np.edu.sg</td>\n      <td>None</td>\n      <td>https://www.np.edu.sg/studentlife/PublishingIm...</td>\n    </tr>\n    <tr>\n      <th>3</th>\n      <td>Chinese Dance</td>\n      <td>Arts &amp; Cultural</td>\n      <td>The Chinese Dance Club focuses on contemporary...</td>\n      <td>cca_cdance@connect.np.edu.sg</td>\n      <td>None</td>\n      <td>https://www.np.edu.sg/studentlife/PublishingIm...</td>\n    </tr>\n    <tr>\n      <th>4</th>\n      <td>Chinese Drama</td>\n      <td>Arts &amp; Cultural</td>\n      <td>The Chinese Drama Club is also known as the St...</td>\n      <td>cca_cdrama@connect.np.edu.sg</td>\n      <td>None</td>\n      <td>https://www.np.edu.sg/studentlife/PublishingIm...</td>\n    </tr>\n    <tr>\n      <th>...</th>\n      <td>...</td>\n      <td>...</td>\n      <td>...</td>\n      <td>...</td>\n      <td>...</td>\n      <td>...</td>\n    </tr>\n    <tr>\n      <th>115</th>\n      <td>Navigators</td>\n      <td>Special Interests</td>\n      <td>The club aims to guide members in their journe...</td>\n      <td>cca_navigators@connect.np.edu.sg</td>\n      <td>None</td>\n      <td>None</td>\n    </tr>\n    <tr>\n      <th>116</th>\n      <td>Ninja-Do Kitagaryu</td>\n      <td>Special Interests</td>\n      <td>A unique form of martial arts that focuses on ...</td>\n      <td>cca_ninjado@connect.np.edu.sg​</td>\n      <td>None</td>\n      <td>None</td>\n    </tr>\n    <tr>\n      <th>117</th>\n      <td>Radio Control</td>\n      <td>Special Interests</td>\n      <td>The Radio Control Club is an avid group of rem...</td>\n      <td></td>\n      <td>None</td>\n      <td>https://www.np.edu.sg/studentlife/PublishingIm...</td>\n    </tr>\n    <tr>\n      <th>118</th>\n      <td>Shitoryu Karate</td>\n      <td>Special Interests</td>\n      <td>Karate trains the Mind, the Body and the Spiri...</td>\n      <td>cca_karate@connect.np.edu.sg</td>\n      <td>None</td>\n      <td>None</td>\n    </tr>\n    <tr>\n      <th>119</th>\n      <td>Toastmasters</td>\n      <td>Special Interests</td>\n      <td>The NP Student Toastmasters Club will help you...</td>\n      <td>cca_toastmasters@connect.np.edu.sg​</td>\n      <td>None</td>\n      <td>https://www.np.edu.sg/studentlife/PublishingIm...</td>\n    </tr>\n  </tbody>\n</table>\n<p>88 rows × 6 columns</p>\n</div>"
     },
     "metadata": {},
     "execution_count": 53
    }
   ],
   "source": [
    "unique_cca_info_df[unique_cca_info_df.isna().any(axis=1)]"
   ]
  },
  {
   "cell_type": "code",
   "execution_count": 52,
   "metadata": {},
   "outputs": [],
   "source": [
    "unique_cca_info_df.replace({nan: None}, inplace=True)"
   ]
  },
  {
   "cell_type": "code",
   "execution_count": 67,
   "metadata": {},
   "outputs": [],
   "source": [
    "unique_cca_info_df.to_json('./processed_data.json', orient='records')"
   ]
  }
 ]
}